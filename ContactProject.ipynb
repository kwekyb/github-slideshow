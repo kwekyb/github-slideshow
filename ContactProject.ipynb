{
  "nbformat": 4,
  "nbformat_minor": 0,
  "metadata": {
    "colab": {
      "name": "ContactProject.ipynb",
      "provenance": [],
      "collapsed_sections": [],
      "authorship_tag": "ABX9TyPP0Lo+YAOHQTmevgRD6rt9",
      "include_colab_link": true
    },
    "kernelspec": {
      "name": "python3",
      "display_name": "Python 3"
    },
    "accelerator": "GPU"
  },
  "cells": [
    {
      "cell_type": "markdown",
      "metadata": {
        "id": "view-in-github",
        "colab_type": "text"
      },
      "source": [
        "<a href=\"https://colab.research.google.com/github/kwekyb/github-slideshow/blob/main/ContactProject.ipynb\" target=\"_parent\"><img src=\"https://colab.research.google.com/assets/colab-badge.svg\" alt=\"Open In Colab\"/></a>"
      ]
    },
    {
      "cell_type": "code",
      "metadata": {
        "id": "o9zHbBQIZViP",
        "colab": {
          "base_uri": "https://localhost:8080/"
        },
        "outputId": "53182146-d2d1-451e-a93c-98cf4b8177e7"
      },
      "source": [
        "class Contact:\r\n",
        "    def __init__(self, name, phone_number, e_mail, addr):\r\n",
        "        self.name = name\r\n",
        "        self.phone_number = phone_number\r\n",
        "        self.e_mail = e_mail\r\n",
        "        self.addr = addr\r\n",
        "\r\n",
        "    def print_info(self):\r\n",
        "        print('Name: ', self.name)\r\n",
        "        print('Phone Name: ', self.phone_number)\r\n",
        "        print('e_mail: ',self.e_mail)\r\n",
        "        print('address: ', self.addr)\r\n",
        "\r\n",
        "def set_contact():\r\n",
        "    name = input('Name: ')\r\n",
        "    phone_number = input('Phone Number: ')\r\n",
        "    e_mail = input('E-mail: ')\r\n",
        "    addr = input('Address: ')\r\n",
        "    contact = Contact(name, phone_number, e_mail, addr)\r\n",
        "    print('=' * 30)\r\n",
        "    print('입력한 정보: ', name,',', phone_number,',', e_mail,',', addr)\r\n",
        "    print('=' * 30)\r\n",
        "    return contact\r\n",
        "\r\n",
        "def delete_contact(contact_list, name):\r\n",
        "    for i, contact in enumerate(contact_list):\r\n",
        "        if contact.name == name:\r\n",
        "            del contact_list[i]\r\n",
        "\r\n",
        "def print_menu():\r\n",
        "    print('1. 연락처 입력')\r\n",
        "    print('2. 연락처 출력')\r\n",
        "    print('3. 연락처 삭제')\r\n",
        "    print('4. 종료')\r\n",
        "    menu = input('메뉴선택: ')\r\n",
        "    print('=' * 30)\r\n",
        "    return int(menu)\r\n",
        "\r\n",
        "def print_contact(contact_list):\r\n",
        "    for contact in contact_list:\r\n",
        "        contact.print_info()\r\n",
        "        print('=' * 30)\r\n",
        "\r\n",
        "def store_contact(contact_list):\r\n",
        "    f = open('contact_db.txt','wt')\r\n",
        "    for contact in contact_list:\r\n",
        "        f.write(contact.name + '\\n')\r\n",
        "        f.write(contact.phone_number + '\\n')\r\n",
        "        f.write(contact.e_mail + '\\n')\r\n",
        "        f.write(contact.addr + '\\n')\r\n",
        "    f.close()\r\n",
        "\r\n",
        "def load_contact(contact_list):\r\n",
        "    f = open('contact_db.txt','rt')\r\n",
        "    lines = f.readlines()\r\n",
        "    num = len(lines) / 4\r\n",
        "    num = int(num)\r\n",
        "\r\n",
        "    for i in range(num):\r\n",
        "        name = lines[4 * i].rstrip('\\n') # 문장에서 오른쪽에서부터 '\\n' 문자를 제거한다\r\n",
        "        phone = lines[4 * i + 1].rstrip('\\n')\r\n",
        "        email = lines[4 * i + 2].rstrip('\\n')\r\n",
        "        addr = lines[4 * i + 3].rstrip('\\n')\r\n",
        "        contact = Contact(name, phone, email, addr)\r\n",
        "        contact_list.append(contact)\r\n",
        "    f.close()\r\n",
        "\r\n",
        "def run():\r\n",
        "    contact_list =[]\r\n",
        "    # load_contact(contact_list)\r\n",
        "    while 1:\r\n",
        "        menu = print_menu()\r\n",
        "        if menu == 1:\r\n",
        "            contact = set_contact()\r\n",
        "            contact_list.append(contact)\r\n",
        "        elif menu == 2:\r\n",
        "            print_contact(contact_list)\r\n",
        "        elif menu == 3:\r\n",
        "            name = input('Name: ')\r\n",
        "            delete_contact(contact_list, name)\r\n",
        "        elif menu == 4:\r\n",
        "            store_contact(contact_list)\r\n",
        "            print('프로그램을 종료합니다.')\r\n",
        "            break\r\n",
        "\r\n",
        "run()"
      ],
      "execution_count": 2,
      "outputs": [
        {
          "output_type": "stream",
          "text": [
            "1. 연락처 입력\n",
            "2. 연락처 출력\n",
            "3. 연락처 삭제\n",
            "4. 종료\n",
            "메뉴선택: 4\n",
            "==============================\n",
            "프로그램을 종료합니다.\n"
          ],
          "name": "stdout"
        }
      ]
    }
  ]
}