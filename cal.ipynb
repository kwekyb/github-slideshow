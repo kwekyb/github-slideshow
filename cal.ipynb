{
  "nbformat": 4,
  "nbformat_minor": 0,
  "metadata": {
    "colab": {
      "name": "cal.ipynb",
      "provenance": [],
      "authorship_tag": "ABX9TyO0jmLM93o8U3oAwH1xuqJp",
      "include_colab_link": true
    },
    "kernelspec": {
      "name": "python3",
      "display_name": "Python 3"
    }
  },
  "cells": [
    {
      "cell_type": "markdown",
      "metadata": {
        "id": "view-in-github",
        "colab_type": "text"
      },
      "source": [
        "<a href=\"https://colab.research.google.com/github/kwekyb/github-slideshow/blob/main/cal.ipynb\" target=\"_parent\"><img src=\"https://colab.research.google.com/assets/colab-badge.svg\" alt=\"Open In Colab\"/></a>"
      ]
    },
    {
      "cell_type": "code",
      "metadata": {
        "colab": {
          "base_uri": "https://localhost:8080/"
        },
        "id": "HNw22gAY6WMa",
        "outputId": "2dbc0b3f-ea53-4845-a722-04cbd075df96"
      },
      "source": [
        "import time\n",
        "import os\n",
        "\n",
        "\n",
        "def print_ntimes(n):\n",
        "  for i in range(n):\n",
        "    print('daesin')\n",
        "\n",
        "def cal_upper(p):\n",
        "  inc = p * 0.3\n",
        "  upper_p = p + inc\n",
        "  return upper_p\n",
        "\n",
        "# for i in range(2):\n",
        "#   print(i)\n",
        "#   time.sleep(1)\n",
        "\n",
        "# print(dir(time))\n",
        "\n",
        "# print(str(time.timezone))\n",
        "print(os.getcwd())\n",
        "print(len(os.listdir()))\n",
        "type(os.listdir())\n",
        "# print(cal_upper(300))\n",
        "# print(time.ctime())\n",
        "# print(time.time())\n",
        "# print_ntimes(3)"
      ],
      "execution_count": null,
      "outputs": [
        {
          "output_type": "stream",
          "text": [
            "/content\n",
            "2\n"
          ],
          "name": "stdout"
        },
        {
          "output_type": "execute_result",
          "data": {
            "text/plain": [
              "list"
            ]
          },
          "metadata": {
            "tags": []
          },
          "execution_count": 27
        }
      ]
    }
  ]
}